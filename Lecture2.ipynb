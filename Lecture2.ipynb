{
 "cells": [
  {
   "cell_type": "code",
   "execution_count": 6,
   "id": "318259cf",
   "metadata": {},
   "outputs": [],
   "source": [
    "str= 'Hello World, Welcome to the World of Python Programming'\n",
    "\n"
   ]
  },
  {
   "cell_type": "code",
   "execution_count": 8,
   "id": "8224a706",
   "metadata": {},
   "outputs": [
    {
     "name": "stdout",
     "output_type": "stream",
     "text": [
      " \n",
      "r\n",
      "m\n"
     ]
    }
   ],
   "source": [
    "# Concept of Indexing\n",
    "\n",
    "\n",
    "print(str[5])\n",
    "print(str[8])\n",
    "print(str[-4])"
   ]
  },
  {
   "cell_type": "code",
   "execution_count": 13,
   "id": "bf8e4a6e",
   "metadata": {},
   "outputs": [
    {
     "name": "stdout",
     "output_type": "stream",
     "text": [
      "Hello World, Welcome to the World of Python Programming\n",
      "Hell\n",
      "am\n",
      "HloWrd ecm oteWrdo yhnPormig\n",
      "Hello World, Welcome to the World of Python Programming\n",
      "gnimmargorP nohtyP fo dlroW eht ot emocleW ,dlroW olleH\n"
     ]
    }
   ],
   "source": [
    "# Concept of Slicing\n",
    "'''  \n",
    "str[start:stop:step]\n",
    "\n",
    "'''\n",
    "print(str[:])\n",
    "print(str[:4])\n",
    "print(str[-6:-4])\n",
    "print(str[::2])\n",
    "print(str[::])\n",
    "print(str[::-1])\n"
   ]
  },
  {
   "cell_type": "code",
   "execution_count": 14,
   "id": "7b6e28d2",
   "metadata": {},
   "outputs": [
    {
     "name": "stdout",
     "output_type": "stream",
     "text": [
      "<class 'str'>\n"
     ]
    }
   ],
   "source": [
    "print(type(str))\n"
   ]
  },
  {
   "cell_type": "code",
   "execution_count": 21,
   "id": "e064da13",
   "metadata": {},
   "outputs": [
    {
     "name": "stdout",
     "output_type": "stream",
     "text": [
      "HELLO WORLD\n",
      "hello world\n",
      "11\n"
     ]
    }
   ],
   "source": [
    "string = 'Hello World'\n",
    "\n",
    "print(string.upper())\n",
    "print(string.lower())\n",
    "print(len(string))\n"
   ]
  },
  {
   "cell_type": "code",
   "execution_count": 24,
   "id": "0930eeda",
   "metadata": {},
   "outputs": [
    {
     "name": "stdout",
     "output_type": "stream",
     "text": [
      "Idai ra o\n",
      "yr\n",
      "dir n\n"
     ]
    }
   ],
   "source": [
    "s = 'India is great country'\n",
    "print(s[:-5:2])\n",
    "print(s[:-3:-1])\n",
    "print(s[2:-3:4])\n"
   ]
  },
  {
   "cell_type": "code",
   "execution_count": null,
   "id": "bb421d68",
   "metadata": {},
   "outputs": [],
   "source": []
  }
 ],
 "metadata": {
  "kernelspec": {
   "display_name": "base",
   "language": "python",
   "name": "python3"
  },
  "language_info": {
   "codemirror_mode": {
    "name": "ipython",
    "version": 3
   },
   "file_extension": ".py",
   "mimetype": "text/x-python",
   "name": "python",
   "nbconvert_exporter": "python",
   "pygments_lexer": "ipython3",
   "version": "3.9.13"
  }
 },
 "nbformat": 4,
 "nbformat_minor": 5
}
