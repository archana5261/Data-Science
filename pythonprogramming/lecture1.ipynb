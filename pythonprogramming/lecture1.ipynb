{
 "cells": [
  {
   "cell_type": "markdown",
   "id": "c00cdc8a",
   "metadata": {},
   "source": [
    "## INTRODUCTION "
   ]
  },
  {
   "cell_type": "code",
   "execution_count": 1,
   "id": "182e38c8",
   "metadata": {},
   "outputs": [],
   "source": [
    "# data types used in python programming\n",
    "''' \n",
    "1. int: Integer\n",
    "2. float: Decimal values\n",
    "3. string: Text Information\n",
    "4. Boolean: True or False\n",
    "\n",
    "'''\n",
    "# Data type Defination\n",
    "# = : Assognment operator\n",
    "num = 100\n",
    "num1 = 100.345 \n",
    "str = 'hello world'\n",
    "boolean = True\n",
    "boolean1 = False\n",
    "\n",
    "\n"
   ]
  },
  {
   "cell_type": "code",
   "execution_count": 2,
   "id": "bd5804a4",
   "metadata": {},
   "outputs": [
    {
     "name": "stdout",
     "output_type": "stream",
     "text": [
      "100\n"
     ]
    }
   ],
   "source": [
    "print(num)\n"
   ]
  },
  {
   "cell_type": "code",
   "execution_count": 3,
   "id": "e52c3ad0",
   "metadata": {},
   "outputs": [
    {
     "name": "stdout",
     "output_type": "stream",
     "text": [
      "num\n"
     ]
    }
   ],
   "source": [
    "print('num')"
   ]
  },
  {
   "cell_type": "code",
   "execution_count": 4,
   "id": "1397ba15",
   "metadata": {},
   "outputs": [
    {
     "data": {
      "text/plain": [
       "200.345"
      ]
     },
     "execution_count": 4,
     "metadata": {},
     "output_type": "execute_result"
    }
   ],
   "source": [
    "(num + num1)"
   ]
  },
  {
   "cell_type": "code",
   "execution_count": 10,
   "id": "e9c2ce8d",
   "metadata": {},
   "outputs": [
    {
     "name": "stdout",
     "output_type": "stream",
     "text": [
      "1234556789\n",
      "1234512345\n"
     ]
    }
   ],
   "source": [
    "a = '12345'\n",
    "b = '56789'\n",
    "c = 2\n",
    "\n",
    "print(a+b)\n",
    "print(a*c)\n"
   ]
  },
  {
   "cell_type": "code",
   "execution_count": 20,
   "id": "034f9cad",
   "metadata": {},
   "outputs": [
    {
     "name": "stdout",
     "output_type": "stream",
     "text": [
      "1010\n"
     ]
    }
   ],
   "source": [
    "# Input Function\n",
    "num1 = input ('Enter the First Number :')\n",
    "num2 = input ('Enter the Second Number :')\n",
    "\n",
    "print (num1 + num2)"
   ]
  },
  {
   "cell_type": "code",
   "execution_count": 22,
   "id": "8bce90f9",
   "metadata": {},
   "outputs": [
    {
     "name": "stdout",
     "output_type": "stream",
     "text": [
      "1010\n"
     ]
    }
   ],
   "source": [
    "#Input Function\n",
    "#Use typeCasting : Converting String to Integer\n",
    "\n",
    "num = float(input('Enter the First Number'))\n",
    "num = float(input('Enter the Second Number'))\n",
    "\n",
    "print(num1 +num2)"
   ]
  },
  {
   "cell_type": "code",
   "execution_count": 23,
   "id": "969868f5",
   "metadata": {},
   "outputs": [
    {
     "name": "stdout",
     "output_type": "stream",
     "text": [
      "The Entered Name of the Person issonal having age is 23.0\n"
     ]
    }
   ],
   "source": [
    "# f string method\n",
    "name = input('Enter the Name:' )\n",
    "age = float(input('Enter the Age in Yraes:'))\n",
    "print(f'The Entered Name of the Person is{name} having age is {age}')\n"
   ]
  },
  {
   "cell_type": "code",
   "execution_count": 2,
   "id": "cc9a0ce8",
   "metadata": {},
   "outputs": [
    {
     "name": "stdout",
     "output_type": "stream",
     "text": [
      "The Multiplication of two Number as100.0 and 2.0 is 200.0\n",
      "The Multiplication of two Number as100.0 and 2.0 is,200.0\n"
     ]
    }
   ],
   "source": [
    "num1 = float(input('Enter the first Number: '))\n",
    "num2 = float(input('Enter the Second Number'))\n",
    "\n",
    "num3 = num1 *num2\n",
    "\n",
    "print(f'The Multiplication of two Number as{num1} and {num2} is',num3)\n",
    "print(f'The Multiplication of two Number as{num1} and {num2} is,{num3}')\n"
   ]
  }
 ],
 "metadata": {
  "kernelspec": {
   "display_name": "base",
   "language": "python",
   "name": "python3"
  },
  "language_info": {
   "codemirror_mode": {
    "name": "ipython",
    "version": 3
   },
   "file_extension": ".py",
   "mimetype": "text/x-python",
   "name": "python",
   "nbconvert_exporter": "python",
   "pygments_lexer": "ipython3",
   "version": "3.9.13"
  }
 },
 "nbformat": 4,
 "nbformat_minor": 5
}
