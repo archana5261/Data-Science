{
 "cells": [
  {
   "cell_type": "code",
   "execution_count": 3,
   "id": "474e486f",
   "metadata": {},
   "outputs": [
    {
     "name": "stdout",
     "output_type": "stream",
     "text": [
      "<class 'list'>\n",
      "[1]\n"
     ]
    }
   ],
   "source": [
    "# List : Data Structure of Pyhon Programming\n",
    "lst = [] # Blank List\n",
    "print(type(lst))\n",
    "lst.append(1) \n",
    "print(lst)"
   ]
  },
  {
   "cell_type": "code",
   "execution_count": null,
   "id": "bd5351ba",
   "metadata": {},
   "outputs": [],
   "source": [
    "# List : Data Stucture od Python Programming\n",
    "\n",
    "lst =[] # Blank List\n",
    "print(type(lst))\n",
    "lst.append(1) #Function : Method\n",
    "print(lst)\n",
    "lst.append(2)"
   ]
  }
 ],
 "metadata": {
  "kernelspec": {
   "display_name": "base",
   "language": "python",
   "name": "python3"
  },
  "language_info": {
   "codemirror_mode": {
    "name": "ipython",
    "version": 3
   },
   "file_extension": ".py",
   "mimetype": "text/x-python",
   "name": "python",
   "nbconvert_exporter": "python",
   "pygments_lexer": "ipython3",
   "version": "3.9.13"
  }
 },
 "nbformat": 4,
 "nbformat_minor": 5
}
